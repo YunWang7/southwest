{
 "cells": [
  {
   "cell_type": "code",
   "execution_count": 1,
   "metadata": {
    "scrolled": true
   },
   "outputs": [
    {
     "name": "stdout",
     "output_type": "stream",
     "text": [
      "Requirement already satisfied: jieba in /home/ec2-user/anaconda3/envs/amazonei_tensorflow_p36/lib/python3.6/site-packages (0.42.1)\n",
      "Requirement already satisfied: gensim in /home/ec2-user/anaconda3/envs/amazonei_tensorflow_p36/lib/python3.6/site-packages (3.8.3)\n",
      "Requirement already satisfied: numpy>=1.11.3 in /home/ec2-user/.local/lib/python3.6/site-packages (from gensim) (1.18.4)\n",
      "Requirement already satisfied: smart-open>=1.8.1 in /home/ec2-user/anaconda3/envs/amazonei_tensorflow_p36/lib/python3.6/site-packages (from gensim) (2.0.0)\n",
      "Requirement already satisfied: six>=1.5.0 in /home/ec2-user/anaconda3/envs/amazonei_tensorflow_p36/lib/python3.6/site-packages (from gensim) (1.11.0)\n",
      "Requirement already satisfied: scipy>=0.18.1 in /home/ec2-user/anaconda3/envs/amazonei_tensorflow_p36/lib/python3.6/site-packages (from gensim) (1.1.0)\n",
      "Requirement already satisfied: boto in /home/ec2-user/anaconda3/envs/amazonei_tensorflow_p36/lib/python3.6/site-packages (from smart-open>=1.8.1->gensim) (2.48.0)\n",
      "Requirement already satisfied: boto3 in /home/ec2-user/anaconda3/envs/amazonei_tensorflow_p36/lib/python3.6/site-packages (from smart-open>=1.8.1->gensim) (1.12.39)\n",
      "Requirement already satisfied: requests in /home/ec2-user/anaconda3/envs/amazonei_tensorflow_p36/lib/python3.6/site-packages (from smart-open>=1.8.1->gensim) (2.20.0)\n",
      "Requirement already satisfied: s3transfer<0.4.0,>=0.3.0 in /home/ec2-user/anaconda3/envs/amazonei_tensorflow_p36/lib/python3.6/site-packages (from boto3->smart-open>=1.8.1->gensim) (0.3.3)\n",
      "Requirement already satisfied: jmespath<1.0.0,>=0.7.1 in /home/ec2-user/anaconda3/envs/amazonei_tensorflow_p36/lib/python3.6/site-packages (from boto3->smart-open>=1.8.1->gensim) (0.9.4)\n",
      "Requirement already satisfied: botocore<1.16.0,>=1.15.39 in /home/ec2-user/anaconda3/envs/amazonei_tensorflow_p36/lib/python3.6/site-packages (from boto3->smart-open>=1.8.1->gensim) (1.15.39)\n",
      "Requirement already satisfied: chardet<3.1.0,>=3.0.2 in /home/ec2-user/anaconda3/envs/amazonei_tensorflow_p36/lib/python3.6/site-packages (from requests->smart-open>=1.8.1->gensim) (3.0.4)\n",
      "Requirement already satisfied: idna<2.8,>=2.5 in /home/ec2-user/anaconda3/envs/amazonei_tensorflow_p36/lib/python3.6/site-packages (from requests->smart-open>=1.8.1->gensim) (2.6)\n",
      "Requirement already satisfied: certifi>=2017.4.17 in /home/ec2-user/anaconda3/envs/amazonei_tensorflow_p36/lib/python3.6/site-packages (from requests->smart-open>=1.8.1->gensim) (2019.11.28)\n",
      "Requirement already satisfied: urllib3<1.25,>=1.21.1 in /home/ec2-user/anaconda3/envs/amazonei_tensorflow_p36/lib/python3.6/site-packages (from requests->smart-open>=1.8.1->gensim) (1.23)\n",
      "Requirement already satisfied: docutils<0.16,>=0.10 in /home/ec2-user/anaconda3/envs/amazonei_tensorflow_p36/lib/python3.6/site-packages (from botocore<1.16.0,>=1.15.39->boto3->smart-open>=1.8.1->gensim) (0.14)\n",
      "Requirement already satisfied: python-dateutil<3.0.0,>=2.1 in /home/ec2-user/anaconda3/envs/amazonei_tensorflow_p36/lib/python3.6/site-packages (from botocore<1.16.0,>=1.15.39->boto3->smart-open>=1.8.1->gensim) (2.7.3)\n",
      "\u001b[33mYou are using pip version 10.0.1, however version 20.2b1 is available.\n",
      "You should consider upgrading via the 'pip install --upgrade pip' command.\u001b[0m\n"
     ]
    }
   ],
   "source": [
    "!pip install jieba gensim"
   ]
  },
  {
   "cell_type": "code",
   "execution_count": 2,
   "metadata": {},
   "outputs": [
    {
     "name": "stderr",
     "output_type": "stream",
     "text": [
      "Building prefix dict from the default dictionary ...\n",
      "Loading model from cache /tmp/jieba.cache\n",
      "Loading model cost 0.884 seconds.\n",
      "Prefix dict has been built successfully.\n"
     ]
    },
    {
     "name": "stdout",
     "output_type": "stream",
     "text": [
      "删除停用词和分词成功！！！\n"
     ]
    }
   ],
   "source": [
    "#!/usr/bin/python\n",
    "# -*- coding:utf-8 -*-\n",
    "\n",
    "import jieba,os,re\n",
    "from gensim import corpora, models, similarities\n",
    "\n",
    "\"\"\"创建停用词列表\"\"\"\n",
    "def stopwordslist():\n",
    "    stopwords = [line.strip() for line in open('./stopwords.txt',encoding='UTF-8').readlines()]\n",
    "    return stopwords\n",
    "\n",
    "\"\"\"对句子进行中文分词\"\"\"\n",
    "def seg_depart(sentence):\n",
    "    sentence_depart = jieba.cut(sentence.strip())\n",
    "    stopwords = stopwordslist()\n",
    "    outstr = ''\n",
    "    for word in sentence_depart:\n",
    "        if word not in stopwords:\n",
    "            outstr += word\n",
    "            outstr += \" \"\n",
    "    # outstr：'黄蜂 湖人 首发 科比 带伤 战 保罗 加索尔 ...'       \n",
    "    return outstr\n",
    "\n",
    "\n",
    "# 给出文档路径\n",
    "filename = \"./cnews.train.txt\"\n",
    "outfilename = \"./cnews.train_jieba.txt\"\n",
    "inputs = open(filename, 'r', encoding='UTF-8')\n",
    "outputs = open(outfilename, 'w', encoding='UTF-8')\n",
    "\n",
    "# 把非汉字的字符全部去掉\n",
    "# 将输出结果写入ouputs.txt中\n",
    "for line in inputs:\n",
    "    line = line.split('\\t')[1]\n",
    "    line = re.sub(r'[^\\u4e00-\\u9fa5]+','',line)\n",
    "    line_seg = seg_depart(line.strip())\n",
    "    outputs.write(line_seg.strip() + '\\n')\n",
    "\n",
    "outputs.close()\n",
    "inputs.close()\n",
    "print(\"删除停用词和分词成功！！！\")"
   ]
  },
  {
   "cell_type": "code",
   "execution_count": 3,
   "metadata": {},
   "outputs": [
    {
     "name": "stdout",
     "output_type": "stream",
     "text": [
      "10个主题的单词分布为：\n",
      "\n",
      "(0, '0.067*\"基金\" + 0.012*\"公司\" + 0.010*\"中\" + 0.007*\"市场\" + 0.006*\"分红\" + 0.005*\"经理\" + 0.004*\"新\" + 0.004*\"投资\" + 0.004*\"高\" + 0.004*\"产品\"')\n",
      "(1, '0.010*\"分红\" + 0.008*\"活动\" + 0.004*\"中\" + 0.003*\"玩家\" + 0.003*\"基金\" + 0.003*\"市场\" + 0.003*\"公司\" + 0.002*\"中国\" + 0.002*\"企业\" + 0.002*\"台湾\"')\n",
      "(2, '0.020*\"考试\" + 0.007*\"四级\" + 0.006*\"中\" + 0.005*\"英语\" + 0.004*\"大学\" + 0.003*\"搭配\" + 0.003*\"说\" + 0.003*\"新\" + 0.003*\"写作\" + 0.003*\"答案\"')\n",
      "(3, '0.005*\"中\" + 0.004*\"说\" + 0.004*\"中国\" + 0.004*\"游戏\" + 0.003*\"拍摄\" + 0.003*\"装备\" + 0.003*\"采用\" + 0.002*\"元\" + 0.002*\"外观设计\" + 0.002*\"奖励\"')\n",
      "(4, '0.044*\"基金\" + 0.016*\"投资\" + 0.015*\"市场\" + 0.010*\"公司\" + 0.009*\"股票\" + 0.008*\"中\" + 0.007*\"行业\" + 0.006*\"经济\" + 0.006*\"一季度\" + 0.006*\"业绩\"')\n",
      "(5, '0.018*\"玩家\" + 0.010*\"游戏\" + 0.005*\"活动\" + 0.005*\"中\" + 0.004*\"中国\" + 0.004*\"视频\" + 0.004*\"兴业\" + 0.004*\"功能\" + 0.004*\"手机\" + 0.004*\"支持\"')\n",
      "(6, '0.005*\"中\" + 0.005*\"单词\" + 0.003*\"时间\" + 0.003*\"说\" + 0.003*\"比赛\" + 0.002*\"应急\" + 0.002*\"热火\" + 0.002*\"中国\" + 0.002*\"詹姆斯\" + 0.002*\"新浪\"')\n",
      "(7, '0.011*\"拍摄\" + 0.009*\"相机\" + 0.008*\"镜头\" + 0.007*\"功能\" + 0.007*\"中\" + 0.007*\"采用\" + 0.006*\"设计\" + 0.006*\"万\" + 0.006*\"索尼\" + 0.005*\"拥有\"')\n",
      "(8, '0.016*\"英寸\" + 0.013*\"机身\" + 0.012*\"拍摄\" + 0.009*\"采用\" + 0.009*\"自动\" + 0.008*\"功能\" + 0.008*\"元\" + 0.007*\"万\" + 0.007*\"倍\" + 0.007*\"支持\"')\n",
      "(9, '0.008*\"中\" + 0.007*\"高清\" + 0.006*\"功能\" + 0.005*\"支持\" + 0.004*\"元\" + 0.003*\"采用\" + 0.003*\"净\" + 0.003*\"内置\" + 0.003*\"拥有\" + 0.003*\"手机\"')\n"
     ]
    }
   ],
   "source": [
    "fr = open('./cnews.train_jieba.txt', 'r',encoding='utf-8')\n",
    "train = []\n",
    "\"\"\"准备好训练语料，整理成gensim需要的输入格式\"\"\"\n",
    "for line in fr.readlines():\n",
    "    line = [word.strip() for word in line.split(' ')]\n",
    "    train.append(line)\n",
    "    # train: [['黄蜂', '湖人', '首发', '科比', '带伤', '战',...],[...],...]\n",
    "    \n",
    "\"\"\"构建词频矩阵，训练LDA模型\"\"\"\n",
    "dictionary = corpora.Dictionary(train)\n",
    "# corpus[0]: [(0, 1), (1, 1), (2, 1), (3, 1), (4, 1),...]\n",
    "# corpus是把每条新闻ID化后的结果，每个元素是新闻中的每个词语，在字典中的ID和频率\n",
    "corpus = [dictionary.doc2bow(text) for text in train]\n",
    "\n",
    "lda = models.LdaModel(corpus=corpus, id2word=dictionary, num_topics=10)\n",
    "topic_list = lda.print_topics(10)\n",
    "print(\"10个主题的单词分布为：\\n\")\n",
    "for topic in topic_list:\n",
    "    print(topic)"
   ]
  },
  {
   "cell_type": "markdown",
   "metadata": {},
   "source": [
    "**使用 `u_mass` 一致性测算方法找到最佳主题数量。通过绘制结果，建议文本中的主题数量。**\n",
    "\n",
    "新闻被视为主题的分布，主题又由词汇表中所有单词的分布表示。但是，我们不知道语料库中到底存在多少个主题数，以及哪个新闻属于哪个主题。潜在狄利克雷分配（LDA）是将词袋计数到较低维度的主题空间的概率转换。通过使用LDA，我们希望将新闻对主题的分配视为一个随机变量，这个变量根据已有数据估算得出。"
   ]
  },
  {
   "cell_type": "code",
   "execution_count": 9,
   "metadata": {},
   "outputs": [
    {
     "name": "stdout",
     "output_type": "stream",
     "text": [
      "1 -2.7787303306799362\n",
      "2 -1.6403008343671908\n",
      "3 -2.447302294852364\n",
      "4 -2.051036151121683\n",
      "5 -2.3992169368669165\n",
      "6 -3.064282708670173\n",
      "7 -2.8381999167829455\n",
      "8 -2.5579583344970667\n",
      "9 -2.8030547361453113\n",
      "10 -2.950919629806514\n",
      "11 -3.775786519623756\n",
      "12 -3.0954403782564026\n",
      "13 -3.4706343298094833\n",
      "14 -3.326726967925119\n",
      "15 -2.8626475450248625\n",
      "16 -3.7173568513900817\n",
      "17 -3.231560555320098\n",
      "18 -4.051065860242299\n",
      "19 -4.565026526539796\n"
     ]
    }
   ],
   "source": [
    "coherence = []\n",
    "for nb_topics in range(1,20):\n",
    "    lda = models.LdaModel(corpus=corpus, id2word=dictionary, num_topics=nb_topics)\n",
    "    cohm = models.CoherenceModel(model=lda, corpus=corpus, dictionary=dictionary, coherence='u_mass')\n",
    "    coh = cohm.get_coherence()\n",
    "    coherence.append(coh)\n",
    "    print(nb_topics,coh)"
   ]
  },
  {
   "cell_type": "code",
   "execution_count": 10,
   "metadata": {
    "scrolled": true
   },
   "outputs": [
    {
     "data": {
      "image/png": "[encoded data removed]",
      "text/plain": [
       "<Figure size 720x360 with 1 Axes>"
      ]
     },
     "metadata": {},
     "output_type": "display_data"
    }
   ],
   "source": [
    "import matplotlib.pyplot as plt\n",
    "plt.figure(figsize=(10,5))\n",
    "plt.plot(range(1,20),coherence)\n",
    "plt.xlabel(\"Number of Topics\")\n",
    "plt.ylabel(\"Coherence Score\");"
   ]
  },
  {
   "cell_type": "markdown",
   "metadata": {},
   "source": [
    "下面我们可视化了一系列训练模型得出的每个主题的平均一致性得分，以及对应得不同数量的主题。平均分数相对较高的主题数量,就是我们寻找的最优值。因此，我们可以从下图中看到主题数量的最佳应该是4个左右。通常有非常短文档的语料库（比如本案例中是推文）往往比具有较长文档的语料库更难应用一致性模型。"
   ]
  },
  {
   "cell_type": "markdown",
   "metadata": {},
   "source": [
    "**通过使用上述分析找到的主题数最佳值4个，对文本运行LDA。打印出4个主题中前10个高频词。接下来，看看看看结果是否具备合理性。**"
   ]
  },
  {
   "cell_type": "code",
   "execution_count": 20,
   "metadata": {},
   "outputs": [],
   "source": [
    "k = 4\n",
    "\n",
    "lda = models.LdaModel(corpus=corpus, id2word=dictionary, num_topics=k)"
   ]
  },
  {
   "cell_type": "code",
   "execution_count": 21,
   "metadata": {},
   "outputs": [],
   "source": [
    "from matplotlib import gridspec\n",
    "import math\n",
    "\n",
    "def plot_top_words(lda=lda, nb_topics=k, nb_words=10):\n",
    "    top_words = [[word for word,_ in lda.show_topic(topic_id, topn=50)] for topic_id in range(lda.num_topics)]\n",
    "    top_betas = [[beta for _,beta in lda.show_topic(topic_id, topn=50)] for topic_id in range(lda.num_topics)]\n",
    "\n",
    "    gs  = gridspec.GridSpec(6,1)\n",
    "    gs.update(wspace=0.5, hspace=0.5)\n",
    "    plt.figure(figsize=(20,15))\n",
    "    for i in range(nb_topics):\n",
    "        print(top_words[i][:nb_words])\n",
    "        ax = plt.subplot(gs[i])\n",
    "        plt.barh(range(nb_words), top_betas[i][:nb_words], align='center',color='blue', ecolor='black')\n",
    "        ax.invert_yaxis()\n",
    "        ax.set_yticks(range(nb_words))\n",
    "        ax.set_yticklabels(top_words[i][:nb_words])\n",
    "        plt.title(\"Topic \"+str(i))"
   ]
  },
  {
   "cell_type": "code",
   "execution_count": 22,
   "metadata": {},
   "outputs": [
    {
     "name": "stdout",
     "output_type": "stream",
     "text": [
      "['基金', '公司', '投资', '市场', '中', '股票', '分红', '行业', '亿元', '收益']\n",
      "['功能', '中', '基金', '机身', '游戏', '玩家', '支持', '说', '设计', '市场']\n",
      "['考试', '中', '信息', '元', '时间', '做', '说', '基金', '活动', '市场']\n",
      "['拍摄', '像素', '万', '采用', '英寸', '镜头', '功能', '中', '产品', '索尼']\n"
     ]
    },
    {
     "data": {
      "image/png": "[encoded data removed]",
      "text/plain": [
       "<Figure size 1440x1080 with 4 Axes>"
      ]
     },
     "metadata": {},
     "output_type": "display_data"
    }
   ],
   "source": [
    "plot_top_words()"
   ]
  },
  {
   "cell_type": "code",
   "execution_count": null,
   "metadata": {},
   "outputs": [],
   "source": []
  }
 ],
 "metadata": {
  "kernelspec": {
   "display_name": "conda_amazonei_tensorflow_p36",
   "language": "python",
   "name": "conda_amazonei_tensorflow_p36"
  },
  "language_info": {
   "codemirror_mode": {
    "name": "ipython",
    "version": 3
   },
   "file_extension": ".py",
   "mimetype": "text/x-python",
   "name": "python",
   "nbconvert_exporter": "python",
   "pygments_lexer": "ipython3",
   "version": "3.6.6"
  }
 },
 "nbformat": 4,
 "nbformat_minor": 2
}
